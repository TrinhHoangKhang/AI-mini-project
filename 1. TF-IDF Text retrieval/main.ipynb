{
 "cells": [
  {
   "cell_type": "markdown",
   "metadata": {},
   "source": [
    "#### Import thư viện"
   ]
  },
  {
   "cell_type": "code",
   "execution_count": 2,
   "metadata": {},
   "outputs": [],
   "source": [
    "import pandas as pd\n",
    "import numpy as np\n",
    "from sklearn.metrics.pairwise import cosine_similarity\n",
    "from sklearn.feature_extraction.text import TfidfVectorizer"
   ]
  },
  {
   "cell_type": "markdown",
   "metadata": {},
   "source": [
    "---"
   ]
  },
  {
   "cell_type": "markdown",
   "metadata": {},
   "source": [
    "#### TF-IDF"
   ]
  },
  {
   "cell_type": "code",
   "execution_count": 12,
   "metadata": {},
   "outputs": [
    {
     "name": "stdout",
     "output_type": "stream",
     "text": [
      "<class 'pandas.core.frame.DataFrame'>\n",
      "RangeIndex: 500 entries, 0 to 499\n",
      "Data columns (total 3 columns):\n",
      " #   Column    Non-Null Count  Dtype \n",
      "---  ------    --------------  ----- \n",
      " 0   id        500 non-null    int64 \n",
      " 1   question  500 non-null    object\n",
      " 2   text      500 non-null    object\n",
      "dtypes: int64(1), object(2)\n",
      "memory usage: 11.8+ KB\n"
     ]
    },
    {
     "data": {
      "text/html": [
       "<div>\n",
       "<style scoped>\n",
       "    .dataframe tbody tr th:only-of-type {\n",
       "        vertical-align: middle;\n",
       "    }\n",
       "\n",
       "    .dataframe tbody tr th {\n",
       "        vertical-align: top;\n",
       "    }\n",
       "\n",
       "    .dataframe thead th {\n",
       "        text-align: right;\n",
       "    }\n",
       "</style>\n",
       "<table border=\"1\" class=\"dataframe\">\n",
       "  <thead>\n",
       "    <tr style=\"text-align: right;\">\n",
       "      <th></th>\n",
       "      <th>id</th>\n",
       "      <th>question</th>\n",
       "      <th>text</th>\n",
       "    </tr>\n",
       "  </thead>\n",
       "  <tbody>\n",
       "    <tr>\n",
       "      <th>0</th>\n",
       "      <td>1570446247</td>\n",
       "      <td>Quang Hải giành được chức vô địch U21 quốc gia...</td>\n",
       "      <td>Năm 2013 , Nguyễn Quang Hải giành chức vô địch...</td>\n",
       "    </tr>\n",
       "    <tr>\n",
       "      <th>1</th>\n",
       "      <td>1570445661</td>\n",
       "      <td>Mỗi hiệp bóng đá kéo dài bao lâu</td>\n",
       "      <td>Một trận đấu bóng đá thông thường có hai hiệp ...</td>\n",
       "    </tr>\n",
       "    <tr>\n",
       "      <th>2</th>\n",
       "      <td>1570382095</td>\n",
       "      <td>Quân đội Hoa Kỳ gồm những lực lượng nào</td>\n",
       "      <td>Quân đội Hoa Kỳ hay Các lực lượng vũ trang Hoa...</td>\n",
       "    </tr>\n",
       "    <tr>\n",
       "      <th>3</th>\n",
       "      <td>1570382072</td>\n",
       "      <td>Ngọc Lan là ai</td>\n",
       "      <td>Ngọc Lan ( 28 tháng 12 năm 1956 - 6 tháng 3 20...</td>\n",
       "    </tr>\n",
       "    <tr>\n",
       "      <th>4</th>\n",
       "      <td>1570382037</td>\n",
       "      <td>Thu Phương từng được những giải thưởng nào</td>\n",
       "      <td>Cô được coi là một trong những ca sĩ thuộc thế...</td>\n",
       "    </tr>\n",
       "    <tr>\n",
       "      <th>5</th>\n",
       "      <td>1570382012</td>\n",
       "      <td>Tên chính thức của Na Uy là gì</td>\n",
       "      <td>Na Uy ( Bokmål : \" Norge \" ; Nynorsk : \" Noreg...</td>\n",
       "    </tr>\n",
       "    <tr>\n",
       "      <th>6</th>\n",
       "      <td>1570381965</td>\n",
       "      <td>Xuân Quỳnh sinh năm bao nhiêu</td>\n",
       "      <td>Bà tên thật là Nguyễn Thị Xuân Quỳnh , sinh ng...</td>\n",
       "    </tr>\n",
       "    <tr>\n",
       "      <th>7</th>\n",
       "      <td>1570381939</td>\n",
       "      <td>Đế quốc Mông Cổ tồn tại khoảng thời gian nào</td>\n",
       "      <td>Đế quốc Mông Cổ (tiếng Mông Cổ: Монголын эзэнт...</td>\n",
       "    </tr>\n",
       "    <tr>\n",
       "      <th>8</th>\n",
       "      <td>1570381875</td>\n",
       "      <td>Kim loại là gì</td>\n",
       "      <td>Trong hoá học , kim loại ( tiếng Hy Lạp là \" m...</td>\n",
       "    </tr>\n",
       "    <tr>\n",
       "      <th>9</th>\n",
       "      <td>1570381850</td>\n",
       "      <td>Bangladesh nằm ở khu vực nào</td>\n",
       "      <td>Bangladesh ( , ,   \" Đất nước Bengal \" , phiên...</td>\n",
       "    </tr>\n",
       "  </tbody>\n",
       "</table>\n",
       "</div>"
      ],
      "text/plain": [
       "           id                                           question  \\\n",
       "0  1570446247  Quang Hải giành được chức vô địch U21 quốc gia...   \n",
       "1  1570445661                   Mỗi hiệp bóng đá kéo dài bao lâu   \n",
       "2  1570382095            Quân đội Hoa Kỳ gồm những lực lượng nào   \n",
       "3  1570382072                                     Ngọc Lan là ai   \n",
       "4  1570382037         Thu Phương từng được những giải thưởng nào   \n",
       "5  1570382012                     Tên chính thức của Na Uy là gì   \n",
       "6  1570381965                      Xuân Quỳnh sinh năm bao nhiêu   \n",
       "7  1570381939       Đế quốc Mông Cổ tồn tại khoảng thời gian nào   \n",
       "8  1570381875                                     Kim loại là gì   \n",
       "9  1570381850                       Bangladesh nằm ở khu vực nào   \n",
       "\n",
       "                                                text  \n",
       "0  Năm 2013 , Nguyễn Quang Hải giành chức vô địch...  \n",
       "1  Một trận đấu bóng đá thông thường có hai hiệp ...  \n",
       "2  Quân đội Hoa Kỳ hay Các lực lượng vũ trang Hoa...  \n",
       "3  Ngọc Lan ( 28 tháng 12 năm 1956 - 6 tháng 3 20...  \n",
       "4  Cô được coi là một trong những ca sĩ thuộc thế...  \n",
       "5  Na Uy ( Bokmål : \" Norge \" ; Nynorsk : \" Noreg...  \n",
       "6  Bà tên thật là Nguyễn Thị Xuân Quỳnh , sinh ng...  \n",
       "7  Đế quốc Mông Cổ (tiếng Mông Cổ: Монголын эзэнт...  \n",
       "8  Trong hoá học , kim loại ( tiếng Hy Lạp là \" m...  \n",
       "9  Bangladesh ( , ,   \" Đất nước Bengal \" , phiên...  "
      ]
     },
     "execution_count": 12,
     "metadata": {},
     "output_type": "execute_result"
    }
   ],
   "source": [
    "vi_data_df = pd.read_csv('vi_text_retrieval.csv')\n",
    "vi_data_df.info()\n",
    "vi_data_df.head(10)"
   ]
  },
  {
   "cell_type": "code",
   "execution_count": 5,
   "metadata": {},
   "outputs": [],
   "source": [
    "context = vi_data_df['text']\n",
    "context = [doc.lower() for doc in context]"
   ]
  },
  {
   "cell_type": "code",
   "execution_count": 9,
   "metadata": {},
   "outputs": [
    {
     "name": "stdout",
     "output_type": "stream",
     "text": [
      "500\n"
     ]
    }
   ],
   "source": [
    "print(len(context))"
   ]
  },
  {
   "cell_type": "code",
   "execution_count": 16,
   "metadata": {},
   "outputs": [],
   "source": [
    "# Init the TF-IDF vectorizer\n",
    "tfidf_vectorizer = TfidfVectorizer()\n",
    "\n",
    "# Change text data into TF-IDF features\n",
    "context_embedded = tfidf_vectorizer.fit_transform(context)"
   ]
  },
  {
   "cell_type": "code",
   "execution_count": 28,
   "metadata": {},
   "outputs": [
    {
     "name": "stdout",
     "output_type": "stream",
     "text": [
      "Type: <class 'scipy.sparse._csr.csr_matrix'>\n",
      "Shape: (500, 2913)\n",
      "First row, first few cols: \n",
      "[0.31126581 0.         0.         0.         0.         0.\n",
      " 0.         0.         0.         0.         0.09380097 0.\n",
      " 0.         0.         0.         0.         0.         0.\n",
      " 0.         0.        ]\n",
      "The real strings: \n",
      "đế quốc mông cổ (tiếng mông cổ: монголын эзэнт гүрэн, chuyển tự mongol-yn ezent güren ipa: [mɔŋɡ(ɔ)ɮˈiːŋ ɛt͡sˈɛnt ˈɡurəŋ] (nghe)) là đế quốc du mục lớn nhất trong lịch sử, từng tồn tại trong các thế kỷ 13 và 14.[2] khởi đầu trên vùng thảo nguyên trung á, đế quốc cuối cùng đã trải dài từ đông âu đến biển nhật bản, bao gồm nhiều phần rộng lớn của siberi ở phía bắc và mở rộng về phía nam đến đông nam á, tiểu lục địa ấn độ, cao nguyên iran, và trung đông. ở thời điểm đỉnh cao, đế quốc mông cổ trải dài 9.700 km (6.000 mi), diện tích lãnh thổ lên tới 24.000.000 km2 (9.300.000 sq mi),[3][4][5][6] và thống trị 100 triệu dân.\n"
     ]
    }
   ],
   "source": [
    "print(f'Type: {type(context_embedded)}')\n",
    "print(f'Shape: {context_embedded.shape}') # 500 doc, entire dataset has 2913 words\n",
    "print(f'First row, first few cols: ')\n",
    "print(context_embedded.toarray()[7][:20])\n",
    "print('The real strings: ')\n",
    "print(context[7])"
   ]
  },
  {
   "cell_type": "markdown",
   "metadata": {},
   "source": [
    "---"
   ]
  },
  {
   "cell_type": "markdown",
   "metadata": {},
   "source": [
    "#### Retrieval"
   ]
  },
  {
   "cell_type": "markdown",
   "metadata": {},
   "source": [
    "##### Cosine similarity"
   ]
  },
  {
   "cell_type": "code",
   "execution_count": null,
   "metadata": {},
   "outputs": [],
   "source": []
  }
 ],
 "metadata": {
  "kernelspec": {
   "display_name": "AIO310",
   "language": "python",
   "name": "python3"
  },
  "language_info": {
   "codemirror_mode": {
    "name": "ipython",
    "version": 3
   },
   "file_extension": ".py",
   "mimetype": "text/x-python",
   "name": "python",
   "nbconvert_exporter": "python",
   "pygments_lexer": "ipython3",
   "version": "3.10.14"
  }
 },
 "nbformat": 4,
 "nbformat_minor": 2
}
