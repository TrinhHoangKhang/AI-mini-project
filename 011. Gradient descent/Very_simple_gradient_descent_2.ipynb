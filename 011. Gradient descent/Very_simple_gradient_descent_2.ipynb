{
  "nbformat": 4,
  "nbformat_minor": 0,
  "metadata": {
    "colab": {
      "provenance": [],
      "authorship_tag": "ABX9TyP5ABSHQ/mMuKzmLD/QJSUG",
      "include_colab_link": true
    },
    "kernelspec": {
      "name": "python3",
      "display_name": "Python 3"
    },
    "language_info": {
      "name": "python"
    }
  },
  "cells": [
    {
      "cell_type": "markdown",
      "metadata": {
        "id": "view-in-github",
        "colab_type": "text"
      },
      "source": [
        "<a href=\"https://colab.research.google.com/github/TrinhHoangKhang/AI-mini-project/blob/main/011.%20Gradient%20descent/Very_simple_gradient_descent_2.ipynb\" target=\"_parent\"><img src=\"https://colab.research.google.com/assets/colab-badge.svg\" alt=\"Open In Colab\"/></a>"
      ]
    },
    {
      "cell_type": "code",
      "source": [
        "import numpy as np\n",
        "import matplotlib.pyplot as plt"
      ],
      "metadata": {
        "id": "6Pd_6WRoYDSI"
      },
      "execution_count": 33,
      "outputs": []
    },
    {
      "cell_type": "markdown",
      "source": [
        "#### Part 1: Use GD to find the minimum of a function\n",
        "Target function: $f(x, y) = (x-3)^2 + (y+4)^2$"
      ],
      "metadata": {
        "id": "OWMQ1oZWN7Iu"
      }
    },
    {
      "cell_type": "code",
      "execution_count": 28,
      "metadata": {
        "id": "goXw57HuMgIq"
      },
      "outputs": [],
      "source": [
        "def f(x, y):\n",
        "  return (x - 3)**2 + (y+4)**2\n",
        "\n",
        "def grad(x, y):\n",
        "  deri_x = 2*(x - 3)\n",
        "  deri_y = 2*(y + 4)\n",
        "  return [deri_x, deri_y]\n",
        "\n",
        "def good_enough(x, y, grad):\n",
        "  if np.linalg.norm(grad(x, y))/2 < 1e-3:\n",
        "    return True\n",
        "  return False\n",
        "\n",
        "def gd(x_init, y_init, grad, eta, iter):\n",
        "  iter_taken = 0\n",
        "  for i in range(iter):\n",
        "    x_new = x_init - eta*grad(x_init, y_init)[0]\n",
        "    y_new = y_init - eta*grad(x_init, y_init)[1]\n",
        "    x_init = x_new\n",
        "    y_init = y_new\n",
        "    iter_taken += 1\n",
        "    if good_enough(x_init, y_init, grad):\n",
        "      break\n",
        "  return x_init, y_init, iter_taken"
      ]
    },
    {
      "cell_type": "code",
      "source": [
        "x = 100\n",
        "y = 100\n",
        "print(f\"(x, y) start at ({x}, {y})\")\n",
        "x_final, y_final, iter_taken = gd(x, y, grad, 0.1, 100)\n",
        "print(f'Final: x = {x_final:.1f}, y = {y_final:.1f}, took: {iter_taken} iters')\n",
        "print(\"Close to the right solution of: (3, -4)!!!\\n\")\n",
        "\n",
        "\n",
        "x = 10\n",
        "y = 10\n",
        "print(f\"(x, y) start at ({x}, {y})\")\n",
        "x_final, y_final, iter_taken = gd(x, y, grad, 0.1, 100)\n",
        "print(f'Final: x = {x_final:.1f}, y = {y_final:.1f}, took: {iter_taken} iters')\n",
        "print(\"Close to the right solution of: (3, -4)!!!\")\n",
        "\n",
        "x = 4\n",
        "y = -5\n",
        "print(f\"(x, y) start at ({x}, {y})\")\n",
        "x_final, y_final, iter_taken = gd(x, y, grad, 0.1, 100)\n",
        "print(f'Final: x = {x_final:.1f}, y = {y_final:.1f}, took: {iter_taken} iters')\n",
        "print(\"Close to the right solution of: (3, -4)!!!\")\n",
        "\n",
        "x = 3.1\n",
        "y = -4.1\n",
        "print(f\"(x, y) start at ({x}, {y})\")\n",
        "x_final, y_final, iter_taken = gd(x, y, grad, 0.1, 100)\n",
        "print(f'Final: x = {x_final:.1f}, y = {y_final:.1f}, took: {iter_taken} iters')\n",
        "print(\"Close to the right solution of: (3, -4)!!!\")"
      ],
      "metadata": {
        "colab": {
          "base_uri": "https://localhost:8080/"
        },
        "id": "LD1azoVBaSyQ",
        "outputId": "4308f5cd-9bfe-475b-8ce5-a9588b67babe"
      },
      "execution_count": 29,
      "outputs": [
        {
          "output_type": "stream",
          "name": "stdout",
          "text": [
            "(x, y) start at (100, 100)\n",
            "Final: x = 3.0, y = -4.0, took: 54 iters\n",
            "Close to the right solution of: (3, -4)!!!\n",
            "\n",
            "(x, y) start at (10, 10)\n",
            "Final: x = 3.0, y = -4.0, took: 44 iters\n",
            "Close to the right solution of: (3, -4)!!!\n",
            "(x, y) start at (4, -5)\n",
            "Final: x = 3.0, y = -4.0, took: 33 iters\n",
            "Close to the right solution of: (3, -4)!!!\n",
            "(x, y) start at (3.1, -4.1)\n",
            "Final: x = 3.0, y = -4.0, took: 23 iters\n",
            "Close to the right solution of: (3, -4)!!!\n"
          ]
        }
      ]
    },
    {
      "cell_type": "markdown",
      "source": [
        "#### Part 2: Use GD in the linear regression problem (batch)"
      ],
      "metadata": {
        "id": "XZj5DG1ucDao"
      }
    },
    {
      "cell_type": "code",
      "source": [
        "# F is the loss function\n",
        "def f(x, y):\n",
        "  final = 0\n",
        "  for point in points:\n",
        "    final += (x*point[0] + y - point[1])**2\n",
        "  final /= 2*len(points)\n",
        "  return final\n",
        "\n",
        "def grad(x, y):\n",
        "  deri_x = 0\n",
        "  deri_y = 0\n",
        "  for point in points:\n",
        "    deri_x += point[0] * (x*point[0] + y - point[1])\n",
        "    deri_y += x*point[0] + y - point[1]\n",
        "  deri_x /= len(points)\n",
        "  deri_y /= len(points)\n",
        "  return (deri_x, deri_y)\n",
        "\n",
        "def good_enough(x, y, grad):\n",
        "  if np.linalg.norm(grad(x, y))/2 < 1e-3:\n",
        "    return True\n",
        "  return False\n",
        "\n",
        "def gd(x_init, y_init, eta, grad, iter=100):\n",
        "  iter_taken = 0\n",
        "  for i in range(iter):\n",
        "    x_new = x_init - eta * grad(x_init, y_init)[0]\n",
        "    y_new = y_init - eta * grad(x_init, y_init)[1]\n",
        "    x_init = x_new\n",
        "    y_init = y_new\n",
        "    iter_taken += 1\n",
        "    if good_enough(x_init, y_init, grad):\n",
        "      break\n",
        "  return x_init, y_init, iter_taken"
      ],
      "metadata": {
        "id": "CJgJW1TQcYSI"
      },
      "execution_count": 49,
      "outputs": []
    },
    {
      "cell_type": "code",
      "source": [
        "points = [(0, 0), (2, 2), (5, 4)]\n",
        "x_init, y_init = 0, 0\n",
        "\n",
        "x_final, y_final, iter_taken = gd(x_init, y_init, 0.1, grad, 100)\n",
        "print(f'Final: x = {x_final:.1f}, y = {y_final:.1f}, took: {iter_taken} iters')\n",
        "print(f\"Start Loss = {f(x_init, y_init)}\")\n",
        "print(f\"Final Loss = {f(x_final, y_final)}\")\n",
        "\n",
        "\n",
        "xs_graph = np.linspace(-10, 10, 100)\n",
        "ys_graph = [x_final * x_graph + y_final for x_graph in xs_graph]\n",
        "plt.plot(xs_graph, ys_graph)\n",
        "for a, b in points:\n",
        "  plt.scatter(a, b)\n",
        "plt.xlim(-10, 10)"
      ],
      "metadata": {
        "colab": {
          "base_uri": "https://localhost:8080/",
          "height": 502
        },
        "id": "krX6QG8vhI8q",
        "outputId": "0f915c10-9713-4f50-b63f-476c5e60928f"
      },
      "execution_count": 51,
      "outputs": [
        {
          "output_type": "stream",
          "name": "stdout",
          "text": [
            "Final: x = 0.8, y = 0.2, took: 51 iters\n",
            "Start Loss = 3.3333333333333335\n",
            "Final Loss = 0.01754835728731589\n"
          ]
        },
        {
          "output_type": "execute_result",
          "data": {
            "text/plain": [
              "(-10.0, 10.0)"
            ]
          },
          "metadata": {},
          "execution_count": 51
        },
        {
          "output_type": "display_data",
          "data": {
            "text/plain": [
              "<Figure size 640x480 with 1 Axes>"
            ],
            "image/png": "[encoded data removed]"
          },
          "metadata": {}
        }
      ]
    },
    {
      "cell_type": "markdown",
      "source": [
        "Fit very well huh"
      ],
      "metadata": {
        "id": "rsmcSe7FjU1E"
      }
    }
  ]
}