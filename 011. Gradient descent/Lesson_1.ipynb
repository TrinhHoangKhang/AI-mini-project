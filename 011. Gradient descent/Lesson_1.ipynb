{
  "nbformat": 4,
  "nbformat_minor": 0,
  "metadata": {
    "colab": {
      "provenance": [],
      "authorship_tag": "ABX9TyN5Mc67ZhH56UTwPI0Jig3G",
      "include_colab_link": true
    },
    "kernelspec": {
      "name": "python3",
      "display_name": "Python 3"
    },
    "language_info": {
      "name": "python"
    }
  },
  "cells": [
    {
      "cell_type": "markdown",
      "metadata": {
        "id": "view-in-github",
        "colab_type": "text"
      },
      "source": [
        "<a href=\"https://colab.research.google.com/github/TrinhHoangKhang/AI-mini-project/blob/main/011.%20Gradient%20descent/Lesson_1.ipynb\" target=\"_parent\"><img src=\"https://colab.research.google.com/assets/colab-badge.svg\" alt=\"Open In Colab\"/></a>"
      ]
    },
    {
      "cell_type": "code",
      "source": [
        "import numpy as np\n",
        "import matplotlib.pyplot as plt"
      ],
      "metadata": {
        "id": "oOAWm0gIyC5J"
      },
      "execution_count": 9,
      "outputs": []
    },
    {
      "cell_type": "markdown",
      "source": [
        "### Challenge: Make a line go though (1, 2) and (5, -3) by finding a, b for the function f(x) = ax + b"
      ],
      "metadata": {
        "id": "7wFL-RacCAZX"
      }
    },
    {
      "cell_type": "code",
      "source": [
        "def f_function(x, a, b):\n",
        "  return a*x + b\n",
        "\n",
        "def loss_function(a, b, points): # points is Constants\n",
        "  total = 0\n",
        "  for x, y in points:\n",
        "    total += (f_function(x, a, b) - y)**2\n",
        "  return total\n",
        "\n",
        "def dloss_da(a, b, points): # points is constants\n",
        "  total = 0\n",
        "  for x, y in points:\n",
        "    total += x * (f_function(x, a, b) - y)\n",
        "  total *= 2\n",
        "  return total\n",
        "\n",
        "def dloss_db(a, b, points): # points is constant\n",
        "  total = 0\n",
        "  for x, y in points:\n",
        "    total += f_function(x, a, b) - y\n",
        "  total *= 2\n",
        "  return total"
      ],
      "metadata": {
        "id": "591RAVPoBxCY"
      },
      "execution_count": null,
      "outputs": []
    },
    {
      "cell_type": "code",
      "source": [
        "points = [(1, 2), (5, -3)]\n",
        "# init a, b randomly\n",
        "a = 0\n",
        "b = 0\n",
        "lr = 0.01\n",
        "iter = 10000\n",
        "\n",
        "for _ in range(iter):\n",
        "  new_a = a - lr * dloss_da(a, b, points)\n",
        "  new_b = b - lr * dloss_db(a, b, points)\n",
        "  a = new_a\n",
        "  b = new_b\n",
        "\n",
        "print(f\"a = {a}, b = {b}\")\n",
        "print(f\"Loss: {loss_function(a, b, points):.10f}\")"
      ],
      "metadata": {
        "colab": {
          "base_uri": "https://localhost:8080/"
        },
        "id": "mkAhhG3JEBCW",
        "outputId": "8d6abf48-d9fd-4616-f588-3a89b641fa13"
      },
      "execution_count": null,
      "outputs": [
        {
          "output_type": "stream",
          "name": "stdout",
          "text": [
            "a = -1.2499999999999956, b = 3.2499999999999813\n",
            "Loss: 0.0000000000\n"
          ]
        }
      ]
    },
    {
      "cell_type": "code",
      "source": [
        "for x, y in points:\n",
        "  y_pred = f_function(x, a, b)\n",
        "  print(f\"y predict: {y_pred} - y real: {y}\")"
      ],
      "metadata": {
        "colab": {
          "base_uri": "https://localhost:8080/"
        },
        "id": "0npgG0rwEmX2",
        "outputId": "ea2da2a8-54a5-4b79-9eb8-29fab1f43cc1"
      },
      "execution_count": null,
      "outputs": [
        {
          "output_type": "stream",
          "name": "stdout",
          "text": [
            "y predict: 1.9999999999999858 - y real: 2\n",
            "y predict: -2.9999999999999964 - y real: -3\n"
          ]
        }
      ]
    },
    {
      "cell_type": "markdown",
      "source": [
        "Ploting"
      ],
      "metadata": {
        "id": "jPUWuxS0G0kP"
      }
    },
    {
      "cell_type": "code",
      "source": [
        "# general custom\n",
        "x_range_left = -10\n",
        "x_range_right = 10\n",
        "y_range_left = -10\n",
        "y_range_right = 10\n",
        "plt.xlim(x_range_left, x_range_right)\n",
        "plt.ylim(y_range_left, y_range_right)\n",
        "plt.xticks(range(x_range_left, x_range_right + 1))\n",
        "plt.yticks(range(y_range_left, y_range_right + 1))\n",
        "plt.axhline(0)\n",
        "plt.axvline(0)\n",
        "plt.grid()\n",
        "\n",
        "# plot the scatter points\n",
        "x = [point[0] for point in points]\n",
        "y = [point[1] for point in points]\n",
        "\n",
        "plt.scatter(x, y, color='red')\n",
        "for i in range(len(x)):\n",
        "  plt.annotate(f\"({x[i]}, {y[i]})\", (x[i], y[i]), textcoords=\"offset points\", xytext=(0,10), ha='center')\n",
        "\n",
        "# plot the line\n",
        "line_xs = np.linspace(x_range_left, x_range_right, 100)\n",
        "line_ys = [f_function(line_x, a, b) for line_x in line_xs]\n",
        "plt.plot(line_xs, line_ys, label=f\"y = ({a:.2f})x + ({b:.2f})\")\n",
        "\n",
        "# show\n",
        "plt.legend()\n",
        "plt.show()"
      ],
      "metadata": {
        "colab": {
          "base_uri": "https://localhost:8080/",
          "height": 435
        },
        "id": "hmpMbAoEG2X2",
        "outputId": "f978dbe4-1071-4597-ec27-ec1b818e1ece"
      },
      "execution_count": null,
      "outputs": [
        {
          "output_type": "display_data",
          "data": {
            "text/plain": [
              "<Figure size 640x480 with 1 Axes>"
            ],
            "image/png": "[encoded data removed]"
          },
          "metadata": {}
        }
      ]
    },
    {
      "cell_type": "markdown",
      "source": [
        "Gradient descent solve the problem, Yay!!!"
      ],
      "metadata": {
        "id": "my65HfJYSz_E"
      }
    },
    {
      "cell_type": "markdown",
      "source": [
        "### Challenge: Make a line go though (-3, 5), (0, -1), (5, 3) by finding a, b for the function f(x) = ax + b"
      ],
      "metadata": {
        "id": "ZYp9gzmYS5cD"
      }
    },
    {
      "cell_type": "code",
      "source": [
        "points = [(-3, 5), (0, -1), (5, 3)]\n",
        "# init a, b randomly\n",
        "a = 0\n",
        "b = 0\n",
        "lr = 0.01\n",
        "iter = 10000\n",
        "\n",
        "for _ in range(iter):\n",
        "  a = a - lr * dloss_da(a, b, points)\n",
        "  b = b - lr * dloss_db(a, b, points)\n",
        "\n",
        "print(f\"a = {a}, b = {b}\")\n",
        "print(f\"Loss: {loss_function(a, b, points):.10f}\")"
      ],
      "metadata": {
        "colab": {
          "base_uri": "https://localhost:8080/"
        },
        "id": "wULqTYh_TCcc",
        "outputId": "758d7675-e029-4e2c-f8d5-453d7fc1fc64"
      },
      "execution_count": null,
      "outputs": [
        {
          "output_type": "stream",
          "name": "stdout",
          "text": [
            "a = -0.1428571428571426, b = 2.428571428571425\n",
            "Loss: 18.0000000000\n"
          ]
        }
      ]
    },
    {
      "cell_type": "code",
      "source": [
        "# general custom\n",
        "x_range_left = -10\n",
        "x_range_right = 10\n",
        "y_range_left = -10\n",
        "y_range_right = 10\n",
        "plt.xlim(x_range_left, x_range_right)\n",
        "plt.ylim(y_range_left, y_range_right)\n",
        "plt.xticks(range(x_range_left, x_range_right + 1))\n",
        "plt.yticks(range(y_range_left, y_range_right + 1))\n",
        "plt.axhline(0)\n",
        "plt.axvline(0)\n",
        "plt.grid()\n",
        "\n",
        "# plot the scatter points\n",
        "x = [point[0] for point in points]\n",
        "y = [point[1] for point in points]\n",
        "\n",
        "plt.scatter(x, y, color='red')\n",
        "for i in range(len(x)):\n",
        "  plt.annotate(f\"({x[i]}, {y[i]})\", (x[i], y[i]), textcoords=\"offset points\", xytext=(0,10), ha='center')\n",
        "\n",
        "# plot the line\n",
        "line_xs = np.linspace(x_range_left, x_range_right, 100)\n",
        "line_ys = [f_function(line_x, a, b) for line_x in line_xs]\n",
        "plt.plot(line_xs, line_ys, label=f\"y = ({a:.2f})x + ({b:.2f})\")\n",
        "\n",
        "# show\n",
        "plt.legend()\n",
        "plt.show()"
      ],
      "metadata": {
        "colab": {
          "base_uri": "https://localhost:8080/",
          "height": 435
        },
        "id": "Moxx00KyTaTD",
        "outputId": "29ef835e-5d53-40ac-ab5b-478db0845225"
      },
      "execution_count": null,
      "outputs": [
        {
          "output_type": "display_data",
          "data": {
            "text/plain": [
              "<Figure size 640x480 with 1 Axes>"
            ],
            "image/png": "[encoded data removed]"
          },
          "metadata": {}
        }
      ]
    },
    {
      "cell_type": "markdown",
      "source": [
        "We got the line, but it look not so good :((("
      ],
      "metadata": {
        "id": "Yovh7zb3ThfU"
      }
    },
    {
      "cell_type": "markdown",
      "source": [
        "### Try challenge 2 again but with f(x) = ax^2 + bx + c"
      ],
      "metadata": {
        "id": "o79BHaZJTk-0"
      }
    },
    {
      "cell_type": "code",
      "source": [
        "def f_function(x, a, b, c):\n",
        "  return a * x**2 + b * x + c\n",
        "\n",
        "def loss_function(a, b, c, points):\n",
        "  total = 0\n",
        "  for x, y in points:\n",
        "    total += (f_function(x, a, b, c) - y)**2\n",
        "  return total\n",
        "\n",
        "def dloss_da(a, b, c, points):\n",
        "  total = 0\n",
        "  for x, y in points:\n",
        "    total += x**2 * (f_function(x, a, b, c) - y)\n",
        "  total *= 2\n",
        "  return total\n",
        "\n",
        "def dloss_db(a, b, c, points):\n",
        "  total = 0\n",
        "  for x, y in points:\n",
        "    total += x * (f_function(x, a, b, c) - y)\n",
        "  total *= 2\n",
        "  return total\n",
        "\n",
        "def dloss_dc(a, b, c, points):\n",
        "  total = 0\n",
        "  for x, y in points:\n",
        "    total += f_function(x, a, b, c) - y\n",
        "  total *= 2\n",
        "  return total"
      ],
      "metadata": {
        "id": "n5w8diS4TsN0"
      },
      "execution_count": null,
      "outputs": []
    },
    {
      "cell_type": "code",
      "source": [
        "points = [(-3, 5), (0, -1), (5, 3)]\n",
        "a = 0\n",
        "b = 0\n",
        "c = 0\n",
        "iter = 10000\n",
        "lr = 0.001\n",
        "\n",
        "for _ in range(iter):\n",
        "  new_a = a - lr * dloss_da(a, b, c, points)\n",
        "  new_b = b - lr * dloss_db(a, b, c, points)\n",
        "  new_c = c - lr * dloss_dc(a, b, c, points)\n",
        "  a = new_a\n",
        "  b = new_b\n",
        "  c = new_c\n",
        "\n",
        "print(f\"a = {a}, b = {b}, c = {c}\")\n",
        "print(f\"Loss: {loss_function(a, b, c, points):.10f}\")"
      ],
      "metadata": {
        "colab": {
          "base_uri": "https://localhost:8080/"
        },
        "id": "xXlZd34TWEf7",
        "outputId": "737652c6-ccad-4c89-9b6e-e995d1603b7b"
      },
      "execution_count": null,
      "outputs": [
        {
          "output_type": "stream",
          "name": "stdout",
          "text": [
            "a = 0.3499999997561567, b = -0.9499999994943141, c = -0.9999999964012393\n",
            "Loss: 0.0000000000\n"
          ]
        }
      ]
    },
    {
      "cell_type": "code",
      "source": [
        "# Plot\n",
        "# General info\n",
        "x_lowerbound = -10\n",
        "x_upperbound = 10\n",
        "y_lowerbound = -10\n",
        "y_upperbound = 10\n",
        "plt.xlim(x_lowerbound, x_upperbound)\n",
        "plt.ylim(y_lowerbound, y_upperbound)\n",
        "plt.xticks(range(x_lowerbound, x_upperbound + 1))\n",
        "plt.yticks(range(y_lowerbound, y_upperbound + 1))\n",
        "plt.axvline(0)\n",
        "plt.axhline(0)\n",
        "plt.grid()\n",
        "\n",
        "# Plot the points\n",
        "xs = [p[0] for p in points]\n",
        "ys = [p[1] for p in points]\n",
        "plt.scatter(xs, ys, color='red')\n",
        "for i in range(len(xs)):\n",
        "  plt.annotate(f\"({xs[i]}, {ys[i]})\", (xs[i], ys[i]), textcoords=\"offset points\", xytext=(0,10), ha='center')\n",
        "\n",
        "# Plot the graph\n",
        "graph_xs = np.linspace(-10, 10, 100)\n",
        "graph_ys = [f_function(x, a, b, c) for x in graph_xs]\n",
        "plt.plot(graph_xs, graph_ys, label=f\"y = ({a:.2f})x^2 + ({b:.2f})x + ({c:.2f})\")\n",
        "\n",
        "# show\n",
        "plt.legend()\n",
        "plt.show()"
      ],
      "metadata": {
        "colab": {
          "base_uri": "https://localhost:8080/",
          "height": 435
        },
        "id": "9T4wlWSWX_KV",
        "outputId": "ad91ced7-a099-43cf-bdda-4d4477e06c38"
      },
      "execution_count": null,
      "outputs": [
        {
          "output_type": "display_data",
          "data": {
            "text/plain": [
              "<Figure size 640x480 with 1 Axes>"
            ],
            "image/png": "[encoded data removed]"
          },
          "metadata": {}
        }
      ]
    },
    {
      "cell_type": "markdown",
      "source": [
        "We make it!!!!"
      ],
      "metadata": {
        "id": "kmRFODI1ayAb"
      }
    },
    {
      "cell_type": "markdown",
      "source": [
        "### Try on an actual dataset"
      ],
      "metadata": {
        "id": "0VEECaWTzAUQ"
      }
    },
    {
      "cell_type": "code",
      "source": [
        "from google.colab import userdata\n",
        "import os\n",
        "\n",
        "os.environ[\"KAGGLE_KEY\"] = userdata.get('KAGLE_TOKEN')\n",
        "os.environ[\"KAGGLE_USERNAME\"] = userdata.get('KAGLE_USERNAME')"
      ],
      "metadata": {
        "id": "Jtv0LjoozJ7A"
      },
      "execution_count": 1,
      "outputs": []
    },
    {
      "cell_type": "code",
      "source": [
        "!kaggle datasets download abhishek14398/salary-dataset-simple-linear-regression"
      ],
      "metadata": {
        "colab": {
          "base_uri": "https://localhost:8080/"
        },
        "id": "N5lHsQxi6_FO",
        "outputId": "787f5ee0-3d8f-4583-fad6-963cd803678f"
      },
      "execution_count": 18,
      "outputs": [
        {
          "output_type": "stream",
          "name": "stdout",
          "text": [
            "Dataset URL: https://www.kaggle.com/datasets/abhishek14398/salary-dataset-simple-linear-regression\n",
            "License(s): CC0-1.0\n",
            "Downloading salary-dataset-simple-linear-regression.zip to /content\n",
            "  0% 0.00/457 [00:00<?, ?B/s]\n",
            "100% 457/457 [00:00<00:00, 764kB/s]\n"
          ]
        }
      ]
    },
    {
      "cell_type": "code",
      "source": [
        "!unzip \"/content/salary-dataset-simple-linear-regression.zip\""
      ],
      "metadata": {
        "colab": {
          "base_uri": "https://localhost:8080/"
        },
        "id": "myejXEMf7MW3",
        "outputId": "37c05930-e7b5-47da-f67d-8d3c6e50d3b0"
      },
      "execution_count": 19,
      "outputs": [
        {
          "output_type": "stream",
          "name": "stdout",
          "text": [
            "Archive:  /content/salary-dataset-simple-linear-regression.zip\n",
            "  inflating: Salary_dataset.csv      \n"
          ]
        }
      ]
    },
    {
      "cell_type": "code",
      "source": [
        "import pandas as pd\n",
        "from sklearn.model_selection import train_test_split"
      ],
      "metadata": {
        "id": "ZQuSagah7U1d"
      },
      "execution_count": 43,
      "outputs": []
    },
    {
      "cell_type": "code",
      "source": [
        "df = pd.read_csv('/content/Salary_dataset.csv')\n",
        "df.info()"
      ],
      "metadata": {
        "colab": {
          "base_uri": "https://localhost:8080/"
        },
        "id": "Xq7qBinf7W81",
        "outputId": "1742bec6-20c8-4c9c-b67c-a198c591a554"
      },
      "execution_count": 20,
      "outputs": [
        {
          "output_type": "stream",
          "name": "stdout",
          "text": [
            "<class 'pandas.core.frame.DataFrame'>\n",
            "RangeIndex: 30 entries, 0 to 29\n",
            "Data columns (total 3 columns):\n",
            " #   Column           Non-Null Count  Dtype  \n",
            "---  ------           --------------  -----  \n",
            " 0   Unnamed: 0       30 non-null     int64  \n",
            " 1   YearsExperience  30 non-null     float64\n",
            " 2   Salary           30 non-null     float64\n",
            "dtypes: float64(2), int64(1)\n",
            "memory usage: 848.0 bytes\n"
          ]
        }
      ]
    },
    {
      "cell_type": "code",
      "source": [
        "x = df['YearsExperience'].to_numpy()\n",
        "y = df['Salary'].to_numpy()\n",
        "plt.scatter(x, y)\n",
        "x_train, x_test, y_train, y_test = train_test_split(x, y, test_size=0.2)"
      ],
      "metadata": {
        "colab": {
          "base_uri": "https://localhost:8080/",
          "height": 430
        },
        "id": "Orvkp1587ksu",
        "outputId": "37a594ae-2244-4444-80fa-d8a1d75f1ca3"
      },
      "execution_count": 53,
      "outputs": [
        {
          "output_type": "display_data",
          "data": {
            "text/plain": [
              "<Figure size 640x480 with 1 Axes>"
            ],
            "image/png": "[encoded data removed]"
          },
          "metadata": {}
        }
      ]
    },
    {
      "cell_type": "code",
      "source": [
        "def f_function(x, a, b):\n",
        "  return a*x + b\n",
        "\n",
        "def loss_function(a, b, points): # points is Constants\n",
        "  total = 0\n",
        "  for x, y in points:\n",
        "    total += (f_function(x, a, b) - y)**2\n",
        "  return total\n",
        "\n",
        "def dloss_da(a, b, points): # points is constants\n",
        "  total = 0\n",
        "  for x, y in points:\n",
        "    total += x * (f_function(x, a, b) - y)\n",
        "  total *= 2\n",
        "  return total\n",
        "\n",
        "def dloss_db(a, b, points): # points is constant\n",
        "  total = 0\n",
        "  for x, y in points:\n",
        "    total += f_function(x, a, b) - y\n",
        "  total *= 2\n",
        "  return total\n",
        "\n",
        "points = []\n",
        "for i in range(len(x_train)):\n",
        "  points.append((x_train[i], y_train[i]))\n",
        "\n",
        "a = 0\n",
        "b = 0\n",
        "iter = 1000\n",
        "lr = 0.0001\n",
        "\n",
        "for i in range(iter):\n",
        "  a = a - lr * dloss_da(a, b, points)\n",
        "  b = b - lr * dloss_db(a, b, points)\n",
        "\n",
        "print(\"Loss: \", loss_function(a, b, points))\n",
        "\n",
        "# Graph\n",
        "# general custom\n",
        "plt.axhline(0)\n",
        "plt.axvline(0)\n",
        "plt.grid()\n",
        "\n",
        "# plot the scatter points\n",
        "x = [point[0] for point in points]\n",
        "y = [point[1] for point in points]\n",
        "\n",
        "plt.scatter(x, y, color='red')\n",
        "\n",
        "# plot the line\n",
        "line_xs = np.linspace(x_range_left, x_range_right, 100)\n",
        "line_ys = [f_function(line_x, a, b) for line_x in line_xs]\n",
        "plt.plot(line_xs, line_ys, label=f\"y = ({a:.2f})x + ({b:.2f})\")\n",
        "\n",
        "# show\n",
        "plt.legend()\n",
        "plt.show()"
      ],
      "metadata": {
        "colab": {
          "base_uri": "https://localhost:8080/",
          "height": 447
        },
        "id": "MHmeXByS8q7u",
        "outputId": "31f55848-bc4d-49f7-d2ba-cffbdf490d8d"
      },
      "execution_count": 55,
      "outputs": [
        {
          "output_type": "stream",
          "name": "stdout",
          "text": [
            "Loss:  969982524.3431852\n"
          ]
        },
        {
          "output_type": "display_data",
          "data": {
            "text/plain": [
              "<Figure size 640x480 with 1 Axes>"
            ],
            "image/png": "[encoded data removed]"
          },
          "metadata": {}
        }
      ]
    },
    {
      "cell_type": "code",
      "source": [
        "y_pred = [f_function(x, a, b) for x in x_test]\n",
        "predict_df = pd.DataFrame(\n",
        "    data = {\n",
        "        \"True salary\": y_test,\n",
        "        \"Predict salary\": np.round(y_pred, 1)\n",
        "    }\n",
        ")\n",
        "predict_df"
      ],
      "metadata": {
        "colab": {
          "base_uri": "https://localhost:8080/",
          "height": 237
        },
        "id": "Lr-Gz59Z-VXV",
        "outputId": "1aaa8a01-df1e-404b-a853-875c1d367ea6"
      },
      "execution_count": 58,
      "outputs": [
        {
          "output_type": "execute_result",
          "data": {
            "text/plain": [
              "   True salary  Predict salary\n",
              "0      91739.0         89440.4\n",
              "1      55795.0         60092.8\n",
              "2      64446.0         51707.8\n",
              "3      93941.0         81055.4\n",
              "4      67939.0         69526.0\n",
              "5     101303.0        100969.8"
            ],
            "text/html": [
              "\n",
              "  <div id=\"df-24664097-f9fd-4d89-a11b-33d1491f48b3\" class=\"colab-df-container\">\n",
              "    <div>\n",
              "<style scoped>\n",
              "    .dataframe tbody tr th:only-of-type {\n",
              "        vertical-align: middle;\n",
              "    }\n",
              "\n",
              "    .dataframe tbody tr th {\n",
              "        vertical-align: top;\n",
              "    }\n",
              "\n",
              "    .dataframe thead th {\n",
              "        text-align: right;\n",
              "    }\n",
              "</style>\n",
              "<table border=\"1\" class=\"dataframe\">\n",
              "  <thead>\n",
              "    <tr style=\"text-align: right;\">\n",
              "      <th></th>\n",
              "      <th>True salary</th>\n",
              "      <th>Predict salary</th>\n",
              "    </tr>\n",
              "  </thead>\n",
              "  <tbody>\n",
              "    <tr>\n",
              "      <th>0</th>\n",
              "      <td>91739.0</td>\n",
              "      <td>89440.4</td>\n",
              "    </tr>\n",
              "    <tr>\n",
              "      <th>1</th>\n",
              "      <td>55795.0</td>\n",
              "      <td>60092.8</td>\n",
              "    </tr>\n",
              "    <tr>\n",
              "      <th>2</th>\n",
              "      <td>64446.0</td>\n",
              "      <td>51707.8</td>\n",
              "    </tr>\n",
              "    <tr>\n",
              "      <th>3</th>\n",
              "      <td>93941.0</td>\n",
              "      <td>81055.4</td>\n",
              "    </tr>\n",
              "    <tr>\n",
              "      <th>4</th>\n",
              "      <td>67939.0</td>\n",
              "      <td>69526.0</td>\n",
              "    </tr>\n",
              "    <tr>\n",
              "      <th>5</th>\n",
              "      <td>101303.0</td>\n",
              "      <td>100969.8</td>\n",
              "    </tr>\n",
              "  </tbody>\n",
              "</table>\n",
              "</div>\n",
              "    <div class=\"colab-df-buttons\">\n",
              "\n",
              "  <div class=\"colab-df-container\">\n",
              "    <button class=\"colab-df-convert\" onclick=\"convertToInteractive('df-24664097-f9fd-4d89-a11b-33d1491f48b3')\"\n",
              "            title=\"Convert this dataframe to an interactive table.\"\n",
              "            style=\"display:none;\">\n",
              "\n",
              "  <svg xmlns=\"http://www.w3.org/2000/svg\" height=\"24px\" viewBox=\"0 -960 960 960\">\n",
              "    <path d=\"M120-120v-720h720v720H120Zm60-500h600v-160H180v160Zm220 220h160v-160H400v160Zm0 220h160v-160H400v160ZM180-400h160v-160H180v160Zm440 0h160v-160H620v160ZM180-180h160v-160H180v160Zm440 0h160v-160H620v160Z\"/>\n",
              "  </svg>\n",
              "    </button>\n",
              "\n",
              "  <style>\n",
              "    .colab-df-container {\n",
              "      display:flex;\n",
              "      gap: 12px;\n",
              "    }\n",
              "\n",
              "    .colab-df-convert {\n",
              "      background-color: #E8F0FE;\n",
              "      border: none;\n",
              "      border-radius: 50%;\n",
              "      cursor: pointer;\n",
              "      display: none;\n",
              "      fill: #1967D2;\n",
              "      height: 32px;\n",
              "      padding: 0 0 0 0;\n",
              "      width: 32px;\n",
              "    }\n",
              "\n",
              "    .colab-df-convert:hover {\n",
              "      background-color: #E2EBFA;\n",
              "      box-shadow: 0px 1px 2px rgba(60, 64, 67, 0.3), 0px 1px 3px 1px rgba(60, 64, 67, 0.15);\n",
              "      fill: #174EA6;\n",
              "    }\n",
              "\n",
              "    .colab-df-buttons div {\n",
              "      margin-bottom: 4px;\n",
              "    }\n",
              "\n",
              "    [theme=dark] .colab-df-convert {\n",
              "      background-color: #3B4455;\n",
              "      fill: #D2E3FC;\n",
              "    }\n",
              "\n",
              "    [theme=dark] .colab-df-convert:hover {\n",
              "      background-color: #434B5C;\n",
              "      box-shadow: 0px 1px 3px 1px rgba(0, 0, 0, 0.15);\n",
              "      filter: drop-shadow(0px 1px 2px rgba(0, 0, 0, 0.3));\n",
              "      fill: #FFFFFF;\n",
              "    }\n",
              "  </style>\n",
              "\n",
              "    <script>\n",
              "      const buttonEl =\n",
              "        document.querySelector('#df-24664097-f9fd-4d89-a11b-33d1491f48b3 button.colab-df-convert');\n",
              "      buttonEl.style.display =\n",
              "        google.colab.kernel.accessAllowed ? 'block' : 'none';\n",
              "\n",
              "      async function convertToInteractive(key) {\n",
              "        const element = document.querySelector('#df-24664097-f9fd-4d89-a11b-33d1491f48b3');\n",
              "        const dataTable =\n",
              "          await google.colab.kernel.invokeFunction('convertToInteractive',\n",
              "                                                    [key], {});\n",
              "        if (!dataTable) return;\n",
              "\n",
              "        const docLinkHtml = 'Like what you see? Visit the ' +\n",
              "          '<a target=\"_blank\" href=https://colab.research.google.com/notebooks/data_table.ipynb>data table notebook</a>'\n",
              "          + ' to learn more about interactive tables.';\n",
              "        element.innerHTML = '';\n",
              "        dataTable['output_type'] = 'display_data';\n",
              "        await google.colab.output.renderOutput(dataTable, element);\n",
              "        const docLink = document.createElement('div');\n",
              "        docLink.innerHTML = docLinkHtml;\n",
              "        element.appendChild(docLink);\n",
              "      }\n",
              "    </script>\n",
              "  </div>\n",
              "\n",
              "\n",
              "<div id=\"df-1e88eba1-1421-408d-84ea-73725a0ab387\">\n",
              "  <button class=\"colab-df-quickchart\" onclick=\"quickchart('df-1e88eba1-1421-408d-84ea-73725a0ab387')\"\n",
              "            title=\"Suggest charts\"\n",
              "            style=\"display:none;\">\n",
              "\n",
              "<svg xmlns=\"http://www.w3.org/2000/svg\" height=\"24px\"viewBox=\"0 0 24 24\"\n",
              "     width=\"24px\">\n",
              "    <g>\n",
              "        <path d=\"M19 3H5c-1.1 0-2 .9-2 2v14c0 1.1.9 2 2 2h14c1.1 0 2-.9 2-2V5c0-1.1-.9-2-2-2zM9 17H7v-7h2v7zm4 0h-2V7h2v10zm4 0h-2v-4h2v4z\"/>\n",
              "    </g>\n",
              "</svg>\n",
              "  </button>\n",
              "\n",
              "<style>\n",
              "  .colab-df-quickchart {\n",
              "      --bg-color: #E8F0FE;\n",
              "      --fill-color: #1967D2;\n",
              "      --hover-bg-color: #E2EBFA;\n",
              "      --hover-fill-color: #174EA6;\n",
              "      --disabled-fill-color: #AAA;\n",
              "      --disabled-bg-color: #DDD;\n",
              "  }\n",
              "\n",
              "  [theme=dark] .colab-df-quickchart {\n",
              "      --bg-color: #3B4455;\n",
              "      --fill-color: #D2E3FC;\n",
              "      --hover-bg-color: #434B5C;\n",
              "      --hover-fill-color: #FFFFFF;\n",
              "      --disabled-bg-color: #3B4455;\n",
              "      --disabled-fill-color: #666;\n",
              "  }\n",
              "\n",
              "  .colab-df-quickchart {\n",
              "    background-color: var(--bg-color);\n",
              "    border: none;\n",
              "    border-radius: 50%;\n",
              "    cursor: pointer;\n",
              "    display: none;\n",
              "    fill: var(--fill-color);\n",
              "    height: 32px;\n",
              "    padding: 0;\n",
              "    width: 32px;\n",
              "  }\n",
              "\n",
              "  .colab-df-quickchart:hover {\n",
              "    background-color: var(--hover-bg-color);\n",
              "    box-shadow: 0 1px 2px rgba(60, 64, 67, 0.3), 0 1px 3px 1px rgba(60, 64, 67, 0.15);\n",
              "    fill: var(--button-hover-fill-color);\n",
              "  }\n",
              "\n",
              "  .colab-df-quickchart-complete:disabled,\n",
              "  .colab-df-quickchart-complete:disabled:hover {\n",
              "    background-color: var(--disabled-bg-color);\n",
              "    fill: var(--disabled-fill-color);\n",
              "    box-shadow: none;\n",
              "  }\n",
              "\n",
              "  .colab-df-spinner {\n",
              "    border: 2px solid var(--fill-color);\n",
              "    border-color: transparent;\n",
              "    border-bottom-color: var(--fill-color);\n",
              "    animation:\n",
              "      spin 1s steps(1) infinite;\n",
              "  }\n",
              "\n",
              "  @keyframes spin {\n",
              "    0% {\n",
              "      border-color: transparent;\n",
              "      border-bottom-color: var(--fill-color);\n",
              "      border-left-color: var(--fill-color);\n",
              "    }\n",
              "    20% {\n",
              "      border-color: transparent;\n",
              "      border-left-color: var(--fill-color);\n",
              "      border-top-color: var(--fill-color);\n",
              "    }\n",
              "    30% {\n",
              "      border-color: transparent;\n",
              "      border-left-color: var(--fill-color);\n",
              "      border-top-color: var(--fill-color);\n",
              "      border-right-color: var(--fill-color);\n",
              "    }\n",
              "    40% {\n",
              "      border-color: transparent;\n",
              "      border-right-color: var(--fill-color);\n",
              "      border-top-color: var(--fill-color);\n",
              "    }\n",
              "    60% {\n",
              "      border-color: transparent;\n",
              "      border-right-color: var(--fill-color);\n",
              "    }\n",
              "    80% {\n",
              "      border-color: transparent;\n",
              "      border-right-color: var(--fill-color);\n",
              "      border-bottom-color: var(--fill-color);\n",
              "    }\n",
              "    90% {\n",
              "      border-color: transparent;\n",
              "      border-bottom-color: var(--fill-color);\n",
              "    }\n",
              "  }\n",
              "</style>\n",
              "\n",
              "  <script>\n",
              "    async function quickchart(key) {\n",
              "      const quickchartButtonEl =\n",
              "        document.querySelector('#' + key + ' button');\n",
              "      quickchartButtonEl.disabled = true;  // To prevent multiple clicks.\n",
              "      quickchartButtonEl.classList.add('colab-df-spinner');\n",
              "      try {\n",
              "        const charts = await google.colab.kernel.invokeFunction(\n",
              "            'suggestCharts', [key], {});\n",
              "      } catch (error) {\n",
              "        console.error('Error during call to suggestCharts:', error);\n",
              "      }\n",
              "      quickchartButtonEl.classList.remove('colab-df-spinner');\n",
              "      quickchartButtonEl.classList.add('colab-df-quickchart-complete');\n",
              "    }\n",
              "    (() => {\n",
              "      let quickchartButtonEl =\n",
              "        document.querySelector('#df-1e88eba1-1421-408d-84ea-73725a0ab387 button');\n",
              "      quickchartButtonEl.style.display =\n",
              "        google.colab.kernel.accessAllowed ? 'block' : 'none';\n",
              "    })();\n",
              "  </script>\n",
              "</div>\n",
              "\n",
              "  <div id=\"id_f713eba2-324e-4984-af57-c07053b420b9\">\n",
              "    <style>\n",
              "      .colab-df-generate {\n",
              "        background-color: #E8F0FE;\n",
              "        border: none;\n",
              "        border-radius: 50%;\n",
              "        cursor: pointer;\n",
              "        display: none;\n",
              "        fill: #1967D2;\n",
              "        height: 32px;\n",
              "        padding: 0 0 0 0;\n",
              "        width: 32px;\n",
              "      }\n",
              "\n",
              "      .colab-df-generate:hover {\n",
              "        background-color: #E2EBFA;\n",
              "        box-shadow: 0px 1px 2px rgba(60, 64, 67, 0.3), 0px 1px 3px 1px rgba(60, 64, 67, 0.15);\n",
              "        fill: #174EA6;\n",
              "      }\n",
              "\n",
              "      [theme=dark] .colab-df-generate {\n",
              "        background-color: #3B4455;\n",
              "        fill: #D2E3FC;\n",
              "      }\n",
              "\n",
              "      [theme=dark] .colab-df-generate:hover {\n",
              "        background-color: #434B5C;\n",
              "        box-shadow: 0px 1px 3px 1px rgba(0, 0, 0, 0.15);\n",
              "        filter: drop-shadow(0px 1px 2px rgba(0, 0, 0, 0.3));\n",
              "        fill: #FFFFFF;\n",
              "      }\n",
              "    </style>\n",
              "    <button class=\"colab-df-generate\" onclick=\"generateWithVariable('predict_df')\"\n",
              "            title=\"Generate code using this dataframe.\"\n",
              "            style=\"display:none;\">\n",
              "\n",
              "  <svg xmlns=\"http://www.w3.org/2000/svg\" height=\"24px\"viewBox=\"0 0 24 24\"\n",
              "       width=\"24px\">\n",
              "    <path d=\"M7,19H8.4L18.45,9,17,7.55,7,17.6ZM5,21V16.75L18.45,3.32a2,2,0,0,1,2.83,0l1.4,1.43a1.91,1.91,0,0,1,.58,1.4,1.91,1.91,0,0,1-.58,1.4L9.25,21ZM18.45,9,17,7.55Zm-12,3A5.31,5.31,0,0,0,4.9,8.1,5.31,5.31,0,0,0,1,6.5,5.31,5.31,0,0,0,4.9,4.9,5.31,5.31,0,0,0,6.5,1,5.31,5.31,0,0,0,8.1,4.9,5.31,5.31,0,0,0,12,6.5,5.46,5.46,0,0,0,6.5,12Z\"/>\n",
              "  </svg>\n",
              "    </button>\n",
              "    <script>\n",
              "      (() => {\n",
              "      const buttonEl =\n",
              "        document.querySelector('#id_f713eba2-324e-4984-af57-c07053b420b9 button.colab-df-generate');\n",
              "      buttonEl.style.display =\n",
              "        google.colab.kernel.accessAllowed ? 'block' : 'none';\n",
              "\n",
              "      buttonEl.onclick = () => {\n",
              "        google.colab.notebook.generateWithVariable('predict_df');\n",
              "      }\n",
              "      })();\n",
              "    </script>\n",
              "  </div>\n",
              "\n",
              "    </div>\n",
              "  </div>\n"
            ],
            "application/vnd.google.colaboratory.intrinsic+json": {
              "type": "dataframe",
              "variable_name": "predict_df",
              "summary": "{\n  \"name\": \"predict_df\",\n  \"rows\": 6,\n  \"fields\": [\n    {\n      \"column\": \"True salary\",\n      \"properties\": {\n        \"dtype\": \"number\",\n        \"std\": 18736.865505379137,\n        \"min\": 55795.0,\n        \"max\": 101303.0,\n        \"num_unique_values\": 6,\n        \"samples\": [\n          91739.0,\n          55795.0,\n          101303.0\n        ],\n        \"semantic_type\": \"\",\n        \"description\": \"\"\n      }\n    },\n    {\n      \"column\": \"Predict salary\",\n      \"properties\": {\n        \"dtype\": \"number\",\n        \"std\": 18509.67317503652,\n        \"min\": 51707.8,\n        \"max\": 100969.8,\n        \"num_unique_values\": 6,\n        \"samples\": [\n          89440.4,\n          60092.8,\n          100969.8\n        ],\n        \"semantic_type\": \"\",\n        \"description\": \"\"\n      }\n    }\n  ]\n}"
            }
          },
          "metadata": {},
          "execution_count": 58
        }
      ]
    }
  ]
}