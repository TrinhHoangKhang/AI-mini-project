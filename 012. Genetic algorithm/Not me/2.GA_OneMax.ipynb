{
 "cells": [
  {
   "cell_type": "code",
   "execution_count": 1,
   "metadata": {},
   "outputs": [],
   "source": [
    "import random\n",
    "\n",
    "# for a problem\n",
    "# encoding\n",
    "def generate_random_value():\n",
    "    return random.randint(0, 1)\n",
    "\n",
    "# evaluate\n",
    "def compute_fitness(individual):\n",
    "    return sum(gen for gen in individual)"
   ]
  },
  {
   "cell_type": "code",
   "execution_count": null,
   "metadata": {},
   "outputs": [],
   "source": []
  },
  {
   "cell_type": "code",
   "execution_count": 8,
   "metadata": {},
   "outputs": [],
   "source": [
    "def create_individual(n):\n",
    "    return [generate_random_value() for _ in range(n)]\n",
    "\n",
    "def crossover(individual1, individual2, crossover_rate = 0.9):\n",
    "    individual1_new = individual1.copy()\n",
    "    individual2_new = individual2.copy()\n",
    "    \n",
    "    for i in range(n):\n",
    "        if random.random() < crossover_rate:\n",
    "            individual1_new[i] = individual2[i]\n",
    "            individual2_new[i] = individual1[i]            \n",
    "    \n",
    "    return individual1_new, individual2_new\n",
    "\n",
    "def mutate(individual, mutation_rate = 0.05):\n",
    "    individual_m = individual.copy()\n",
    "    \n",
    "    for i in range(n):\n",
    "        if random.random() < mutation_rate:\n",
    "            individual_m[i] = generate_random_value()\n",
    "        \n",
    "    return individual_m\n",
    "\n",
    "# population is sorted according to fitness\n",
    "def selection(sorted_old_population, m):    \n",
    "    index1 = random.randint(0, m-1)\n",
    "    index2 = random.randint(0, m-1)\n",
    "    \n",
    "    while index2 == index1:\n",
    "        index2 = random.randint(0, m-1)            \n",
    "            \n",
    "    individual_s = sorted_old_population[index1]\n",
    "    if index2 > index1:\n",
    "        individual_s = sorted_old_population[index2]\n",
    "    \n",
    "    return individual_s "
   ]
  },
  {
   "cell_type": "code",
   "execution_count": null,
   "metadata": {},
   "outputs": [],
   "source": []
  },
  {
   "cell_type": "code",
   "execution_count": 9,
   "metadata": {},
   "outputs": [
    {
     "name": "stdout",
     "output_type": "stream",
     "text": [
      "BEST: 14\n",
      "BEST: 15\n",
      "BEST: 13\n",
      "BEST: 15\n",
      "BEST: 14\n",
      "BEST: 14\n",
      "BEST: 15\n",
      "BEST: 16\n",
      "BEST: 17\n",
      "BEST: 17\n",
      "BEST: 17\n",
      "BEST: 18\n",
      "BEST: 18\n",
      "BEST: 18\n",
      "BEST: 19\n",
      "BEST: 18\n",
      "BEST: 19\n",
      "BEST: 19\n",
      "BEST: 19\n",
      "BEST: 19\n",
      "BEST: 19\n",
      "BEST: 20\n",
      "BEST: 20\n",
      "BEST: 19\n",
      "BEST: 19\n",
      "BEST: 19\n",
      "BEST: 19\n",
      "BEST: 19\n",
      "BEST: 19\n",
      "BEST: 19\n",
      "BEST: 19\n",
      "BEST: 19\n",
      "BEST: 20\n",
      "BEST: 20\n",
      "BEST: 20\n",
      "BEST: 20\n",
      "BEST: 20\n",
      "BEST: 20\n",
      "BEST: 20\n",
      "BEST: 20\n",
      "BEST: 20\n",
      "BEST: 20\n",
      "BEST: 20\n",
      "BEST: 20\n",
      "BEST: 20\n",
      "BEST: 20\n",
      "BEST: 20\n",
      "BEST: 20\n",
      "BEST: 20\n",
      "BEST: 20\n"
     ]
    }
   ],
   "source": [
    "n = 20                 # size of individual (chromosome)\n",
    "m = 20                 # size of population\n",
    "n_generations = 50     # number of generations\n",
    "\n",
    "# để vẽ biểu đồ quá trình tối ưu\n",
    "fitnesses = []\n",
    "\n",
    "#  create population\n",
    "population = [create_individual(n) for _ in range(m)]\n",
    "\n",
    "# loops\n",
    "for i in range(n_generations):\n",
    "    # step 1: sort population\n",
    "    sorted_population = sorted(population, key=compute_fitness)\n",
    "\n",
    "    if i%1 == 0:        \n",
    "        fitnesses.append(compute_fitness(sorted_population[-1]))\n",
    "        print(\"BEST:\", compute_fitness(sorted_population[-1]))      \n",
    "\n",
    "    new_population = []\n",
    "    while len(new_population) < m:\n",
    "        # step2: selection\n",
    "        individual_s1 = selection(sorted_population, m)\n",
    "        individual_s2 = selection(sorted_population, m) # duplication\n",
    "\n",
    "        # step3: crossover\n",
    "        individual_c1, individual_c2 = crossover(individual_s1, individual_s2)\n",
    "\n",
    "        # step4: mutation\n",
    "        individual_m1 = mutate(individual_c1)\n",
    "        individual_m2 = mutate(individual_c2)\n",
    "\n",
    "        new_population.append(individual_m1)\n",
    "        new_population.append(individual_m2) \n",
    "\n",
    "    population = new_population"
   ]
  },
  {
   "cell_type": "code",
   "execution_count": null,
   "metadata": {},
   "outputs": [],
   "source": []
  },
  {
   "cell_type": "code",
   "execution_count": null,
   "metadata": {},
   "outputs": [],
   "source": []
  },
  {
   "cell_type": "code",
   "execution_count": null,
   "metadata": {},
   "outputs": [],
   "source": []
  },
  {
   "cell_type": "code",
   "execution_count": 6,
   "metadata": {},
   "outputs": [
    {
     "name": "stdout",
     "output_type": "stream",
     "text": [
      "[1, 1, 1, 1, 1, 1, 1, 1, 1, 1]\n"
     ]
    }
   ],
   "source": [
    "sorted_population = sorted(population, key=compute_fitness)\n",
    "individual_best = sorted_population[-1]\n",
    "print(individual_best)"
   ]
  },
  {
   "cell_type": "code",
   "execution_count": 10,
   "metadata": {},
   "outputs": [
    {
     "data": {
      "image/png": "[encoded data removed]",
      "text/plain": [
       "<Figure size 640x480 with 1 Axes>"
      ]
     },
     "metadata": {},
     "output_type": "display_data"
    }
   ],
   "source": [
    "import matplotlib.pyplot as plt\n",
    "\n",
    "plt.plot(fitnesses)\n",
    "plt.xlabel('Generations')\n",
    "plt.ylabel('Fitness')\n",
    "plt.show()"
   ]
  },
  {
   "cell_type": "code",
   "execution_count": null,
   "metadata": {},
   "outputs": [],
   "source": []
  },
  {
   "cell_type": "code",
   "execution_count": null,
   "metadata": {},
   "outputs": [],
   "source": []
  },
  {
   "cell_type": "markdown",
   "metadata": {},
   "source": [
    "## Elitism"
   ]
  },
  {
   "cell_type": "code",
   "execution_count": 11,
   "metadata": {},
   "outputs": [],
   "source": [
    "import random\n",
    "\n",
    "# for a problem\n",
    "# encoding\n",
    "def generate_random_value():\n",
    "    return random.randint(0, 1)\n",
    "\n",
    "# evaluate\n",
    "def compute_fitness(individual):\n",
    "    return sum(gen for gen in individual)"
   ]
  },
  {
   "cell_type": "code",
   "execution_count": 12,
   "metadata": {},
   "outputs": [],
   "source": [
    "def create_individual(n):\n",
    "    return [generate_random_value() for _ in range(n)]\n",
    "\n",
    "def crossover(individual1, individual2, crossover_rate = 0.9):\n",
    "    individual1_new = individual1.copy()\n",
    "    individual2_new = individual2.copy()\n",
    "    \n",
    "    for i in range(n):\n",
    "        if random.random() < crossover_rate:\n",
    "            individual1_new[i] = individual2[i]\n",
    "            individual2_new[i] = individual1[i]            \n",
    "    \n",
    "    return individual1_new, individual2_new\n",
    "\n",
    "def mutate(individual, mutation_rate = 0.05):\n",
    "    individual_m = individual.copy()\n",
    "    \n",
    "    for i in range(n):\n",
    "        if random.random() < mutation_rate:\n",
    "            individual_m[i] = generate_random_value()\n",
    "        \n",
    "    return individual_m\n",
    "\n",
    "# population is sorted according to fitness\n",
    "def selection(sorted_old_population, m):    \n",
    "    index1 = random.randint(0, m-1)\n",
    "    index2 = random.randint(0, m-1)\n",
    "    \n",
    "    while index2 == index1:\n",
    "        index2 = random.randint(0, m-1)            \n",
    "            \n",
    "    individual_s = sorted_old_population[index1]\n",
    "    if index2 > index1:\n",
    "        individual_s = sorted_old_population[index2]\n",
    "    \n",
    "    return individual_s "
   ]
  },
  {
   "cell_type": "code",
   "execution_count": 13,
   "metadata": {},
   "outputs": [
    {
     "name": "stdout",
     "output_type": "stream",
     "text": [
      "BEST: 13\n",
      "BEST: 15\n",
      "BEST: 15\n",
      "BEST: 15\n",
      "BEST: 15\n",
      "BEST: 17\n",
      "BEST: 17\n",
      "BEST: 17\n",
      "BEST: 17\n",
      "BEST: 18\n",
      "BEST: 18\n",
      "BEST: 18\n",
      "BEST: 18\n",
      "BEST: 18\n",
      "BEST: 18\n",
      "BEST: 20\n",
      "BEST: 20\n",
      "BEST: 20\n",
      "BEST: 20\n",
      "BEST: 20\n",
      "BEST: 20\n",
      "BEST: 20\n",
      "BEST: 20\n",
      "BEST: 20\n",
      "BEST: 20\n",
      "BEST: 20\n",
      "BEST: 20\n",
      "BEST: 20\n",
      "BEST: 20\n",
      "BEST: 20\n",
      "BEST: 20\n",
      "BEST: 20\n",
      "BEST: 20\n",
      "BEST: 20\n",
      "BEST: 20\n",
      "BEST: 20\n",
      "BEST: 20\n",
      "BEST: 20\n",
      "BEST: 20\n",
      "BEST: 20\n"
     ]
    }
   ],
   "source": [
    "n = 20                 # size of individual (chromosome)\n",
    "m = 20                 # size of population\n",
    "n_generations = 40     # number of generations\n",
    "\n",
    "# để vẽ biểu đồ quá trình tối ưu\n",
    "fitnesses = []\n",
    "\n",
    "# create population\n",
    "population = [create_individual(n) for _ in range(m)]\n",
    "\n",
    "elitism = 2\n",
    "for i in range(n_generations):\n",
    "    # step 2: sort population\n",
    "    sorted_population = sorted(population, key=compute_fitness)\n",
    "        \n",
    "    # for debug\n",
    "    fitnesses.append(compute_fitness(sorted_population[-1]))\n",
    "    print(\"BEST:\", compute_fitness(sorted_population[-1]))\n",
    "    \n",
    "    # elitism\n",
    "    new_population = sorted_population[-elitism:]\n",
    "    while len(new_population) < m:\n",
    "        # step 3: selection\n",
    "        individual_s1 = selection(sorted_population, m)\n",
    "        individual_s2 = selection(sorted_population, m) # duplication\n",
    "        \n",
    "        # step 4: crossover\n",
    "        individual_c1, individual_c2 = crossover(individual_s1, individual_s2)\n",
    "        \n",
    "        # step 5: mutation\n",
    "        individual_m1 = mutate(individual_c1)\n",
    "        individual_m2 = mutate(individual_c2)\n",
    "        \n",
    "        # copy to new population\n",
    "        new_population.append(individual_m1)\n",
    "        new_population.append(individual_m2)\n",
    "        \n",
    "    # update population\n",
    "    population = new_population"
   ]
  },
  {
   "cell_type": "code",
   "execution_count": 14,
   "metadata": {},
   "outputs": [
    {
     "data": {
      "image/png": "[encoded data removed]",
      "text/plain": [
       "<Figure size 640x480 with 1 Axes>"
      ]
     },
     "metadata": {},
     "output_type": "display_data"
    }
   ],
   "source": [
    "import matplotlib.pyplot as plt\n",
    "\n",
    "plt.plot(fitnesses)\n",
    "plt.xlabel('Generations')\n",
    "plt.ylabel('Fitness')\n",
    "plt.show()"
   ]
  },
  {
   "cell_type": "code",
   "execution_count": 9,
   "metadata": {},
   "outputs": [
    {
     "name": "stdout",
     "output_type": "stream",
     "text": [
      "[1, 1, 1, 1, 1, 1, 1, 1, 1, 1, 1, 1, 1, 1, 1, 1, 1, 1, 1, 1]\n"
     ]
    }
   ],
   "source": [
    "sorted_population = sorted(population, key=compute_fitness)\n",
    "individual_best = sorted_population[-1]\n",
    "print(individual_best)"
   ]
  },
  {
   "cell_type": "code",
   "execution_count": null,
   "metadata": {},
   "outputs": [],
   "source": []
  },
  {
   "cell_type": "code",
   "execution_count": null,
   "metadata": {},
   "outputs": [],
   "source": []
  }
 ],
 "metadata": {
  "kernelspec": {
   "display_name": "Python 3 (ipykernel)",
   "language": "python",
   "name": "python3"
  },
  "language_info": {
   "codemirror_mode": {
    "name": "ipython",
    "version": 3
   },
   "file_extension": ".py",
   "mimetype": "text/x-python",
   "name": "python",
   "nbconvert_exporter": "python",
   "pygments_lexer": "ipython3",
   "version": "3.8.2"
  }
 },
 "nbformat": 4,
 "nbformat_minor": 2
}
