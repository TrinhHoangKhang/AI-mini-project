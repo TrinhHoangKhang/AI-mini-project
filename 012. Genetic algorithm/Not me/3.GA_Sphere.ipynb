{
 "cells": [
  {
   "cell_type": "code",
   "execution_count": 1,
   "metadata": {},
   "outputs": [],
   "source": [
    "import random\n",
    "\n",
    "# encoding\n",
    "def generate_random_value(bound = 100):\n",
    "    return (random.random()*2 - 1)*bound\n",
    "\n",
    "# compute cost\n",
    "def compute_cost(individual): # cost\n",
    "    return sum(val*val for val in individual)"
   ]
  },
  {
   "cell_type": "code",
   "execution_count": null,
   "metadata": {},
   "outputs": [],
   "source": []
  },
  {
   "cell_type": "code",
   "execution_count": 2,
   "metadata": {},
   "outputs": [],
   "source": [
    "def create_individual():\n",
    "    return [generate_random_value() for _ in range(n)]\n",
    "\n",
    "def crossover(individual1, individual2, crossover_rate = 0.9):\n",
    "    individual1_new = individual1.copy()\n",
    "    individual2_new = individual2.copy()\n",
    "    \n",
    "    for i in range(n):\n",
    "        if random.random() < crossover_rate:\n",
    "            individual1_new[i] = individual2[i]\n",
    "            individual2_new[i] = individual1[i]\n",
    "            \n",
    "    \n",
    "    return individual1_new, individual2_new\n",
    "\n",
    "def mutate(individual, mutation_rate = 0.05):\n",
    "    individual_m = individual.copy()\n",
    "    \n",
    "    for i in range(n):\n",
    "        if random.random() < mutation_rate:\n",
    "            individual_m[i] = generate_random_value()\n",
    "        \n",
    "    return individual_m\n",
    "\n",
    "def selection(sorted_old_population):    \n",
    "    index1 = random.randint(0, m-1) \n",
    "    index2 = random.randint(0, m-1)\n",
    "    \n",
    "    while index2 == index1:\n",
    "        index2 = random.randint(0, m-1)\n",
    "            \n",
    "    individual_s = sorted_old_population[index1]\n",
    "    if index2 < index1: # get smaller one (cost)\n",
    "        individual_s = sorted_old_population[index2]\n",
    "    \n",
    "    return individual_s "
   ]
  },
  {
   "cell_type": "code",
   "execution_count": 6,
   "metadata": {},
   "outputs": [
    {
     "name": "stdout",
     "output_type": "stream",
     "text": [
      "Cost: 5118.239659267984\n",
      "Cost: 327.66560549294144\n",
      "Cost: 28.35968484428809\n",
      "Cost: 28.35968484428809\n",
      "Cost: 28.35968484428809\n",
      "Cost: 5.012990598450012\n",
      "Cost: 5.012990598450012\n",
      "Cost: 3.7930684666504204\n",
      "Cost: 1.2502276122272495\n",
      "Cost: 1.2502276122272495\n",
      "Cost: 1.0823701696545176\n",
      "Cost: 1.0823701696545176\n",
      "Cost: 1.0823701696545176\n",
      "Cost: 0.9598112283223499\n",
      "Cost: 0.9474866239941393\n",
      "Cost: 0.9474866239941393\n",
      "Cost: 0.9474866239941393\n",
      "Cost: 0.9474866239941393\n",
      "Cost: 0.9275876423347682\n",
      "Cost: 0.8248827445560345\n",
      "Cost: 0.7942125643208291\n",
      "Cost: 0.7911122430688493\n",
      "Cost: 0.7911122430688493\n",
      "Cost: 0.7911122430688493\n",
      "Cost: 0.17213635569113558\n",
      "Cost: 0.17213635569113558\n",
      "Cost: 0.17213635569113558\n",
      "Cost: 0.17213635569113558\n",
      "Cost: 0.08064868935897226\n",
      "Cost: 0.07940380457305114\n"
     ]
    }
   ],
   "source": [
    "n = 6\n",
    "m = 100\n",
    "n_generations = 300\n",
    "\n",
    "losses = []\n",
    "\n",
    "##### algorithm\n",
    "# step 1: create initial population\n",
    "population = [create_individual() for _ in range(m)]\n",
    "\n",
    "#==== loops\n",
    "elitism = 2\n",
    "for i in range(n_generations):\n",
    "    sorted_population = sorted(population, key=compute_cost)\n",
    "        \n",
    "    # for debug\n",
    "    if i%10 == 0:\n",
    "        losses.append(compute_cost(sorted_population[0]))\n",
    "        print(\"Cost:\", compute_cost(sorted_population[0]))\n",
    "    \n",
    "    # create new_population (get the first two)\n",
    "    new_population = sorted_population[:elitism]   \n",
    "    \n",
    "    while len(new_population) < m:\n",
    "        # selection\n",
    "        individual_s1 = selection(sorted_population)\n",
    "        individual_s2 = selection(sorted_population) # duplication\n",
    "        \n",
    "        # crossover\n",
    "        individual_c1, individual_c2 = crossover(individual_s1, individual_s2)\n",
    "        \n",
    "        # mutation\n",
    "        individual_m1 = mutate(individual_c1)\n",
    "        individual_m2 = mutate(individual_c2)\n",
    "        \n",
    "        # copy \n",
    "        new_population.append(individual_m1)\n",
    "        new_population.append(individual_m2)\n",
    "\n",
    "    # update population\n",
    "    population = new_population"
   ]
  },
  {
   "cell_type": "code",
   "execution_count": null,
   "metadata": {},
   "outputs": [],
   "source": []
  },
  {
   "cell_type": "code",
   "execution_count": 7,
   "metadata": {},
   "outputs": [
    {
     "data": {
      "image/png": "[encoded data removed]",
      "text/plain": [
       "<Figure size 640x480 with 1 Axes>"
      ]
     },
     "metadata": {},
     "output_type": "display_data"
    }
   ],
   "source": [
    "import matplotlib.pyplot as plt\n",
    "\n",
    "plt.plot(losses)\n",
    "plt.show()"
   ]
  },
  {
   "cell_type": "code",
   "execution_count": null,
   "metadata": {},
   "outputs": [],
   "source": []
  },
  {
   "cell_type": "code",
   "execution_count": null,
   "metadata": {},
   "outputs": [],
   "source": []
  },
  {
   "cell_type": "markdown",
   "metadata": {},
   "source": [
    "## using fitness"
   ]
  },
  {
   "cell_type": "code",
   "execution_count": 5,
   "metadata": {},
   "outputs": [],
   "source": [
    "import random\n",
    "\n",
    "# encoding\n",
    "def generate_random_value(bound = 20):\n",
    "    return (random.random()*2 - 1)*bound\n",
    "\n",
    "# compute fitness\n",
    "def compute_loss(individual):\n",
    "    return sum(val*val for val in individual)\n",
    "\n",
    "def compute_fitness(individual):\n",
    "    return 1 / (0.0001 + compute_loss(individual))"
   ]
  },
  {
   "cell_type": "code",
   "execution_count": null,
   "metadata": {},
   "outputs": [],
   "source": []
  },
  {
   "cell_type": "code",
   "execution_count": 6,
   "metadata": {},
   "outputs": [],
   "source": [
    "def create_individual():\n",
    "    return [generate_random_value() for _ in range(n)]\n",
    "\n",
    "def crossover(individual1, individual2, crossover_rate = 0.9):\n",
    "    individual1_new = individual1.copy()\n",
    "    individual2_new = individual2.copy()\n",
    "    \n",
    "    for i in range(n):\n",
    "        if random.random() < crossover_rate:\n",
    "            individual1_new[i] = individual2[i]\n",
    "            individual2_new[i] = individual1[i]\n",
    "            \n",
    "    \n",
    "    return individual1_new, individual2_new\n",
    "\n",
    "def mutate(individual, mutation_rate = 0.05):\n",
    "    individual_m = individual.copy()\n",
    "    \n",
    "    for i in range(n):\n",
    "        if random.random() < mutation_rate:\n",
    "            individual_m[i] = generate_random_value()\n",
    "        \n",
    "    return individual_m\n",
    "\n",
    "def selection(sorted_old_population):    \n",
    "    index1 = random.randint(0, m-1) \n",
    "    index2 = random.randint(0, m-1)\n",
    "    \n",
    "    while index2 == index1:\n",
    "        index2 = random.randint(0, m-1)\n",
    "            \n",
    "    individual_s = sorted_old_population[index1]\n",
    "    if index2 > index1:\n",
    "        individual_s = sorted_old_population[index2]\n",
    "    \n",
    "    return individual_s "
   ]
  },
  {
   "cell_type": "code",
   "execution_count": null,
   "metadata": {},
   "outputs": [],
   "source": []
  },
  {
   "cell_type": "code",
   "execution_count": 7,
   "metadata": {},
   "outputs": [
    {
     "name": "stdout",
     "output_type": "stream",
     "text": [
      "loss: 93.73369840945828\n",
      "loss: 14.66177935231217\n",
      "loss: 6.005994172873919\n",
      "loss: 3.2478895275142916\n",
      "loss: 0.9975054325031186\n",
      "loss: 0.4485429606613792\n",
      "loss: 0.09105532109482772\n",
      "loss: 0.05429452155189533\n",
      "loss: 0.05429452155189533\n",
      "loss: 0.024811091857124455\n",
      "loss: 0.02404094517630989\n",
      "loss: 0.02404094517630989\n",
      "loss: 0.02404094517630989\n",
      "loss: 0.01927547626660192\n",
      "loss: 0.01927547626660192\n",
      "loss: 0.013652534670129893\n",
      "loss: 0.013652534670129893\n",
      "loss: 0.0052398675229119495\n",
      "loss: 0.0052398675229119495\n",
      "loss: 0.0052398675229119495\n",
      "loss: 0.0052398675229119495\n",
      "loss: 0.0052398675229119495\n",
      "loss: 0.0052398675229119495\n",
      "loss: 0.0052398675229119495\n",
      "loss: 0.0052398675229119495\n",
      "loss: 0.0052398675229119495\n",
      "loss: 0.0052398675229119495\n",
      "loss: 0.0052398675229119495\n",
      "loss: 0.0052398675229119495\n",
      "loss: 0.0052398675229119495\n"
     ]
    }
   ],
   "source": [
    "n = 6\n",
    "m = 100\n",
    "n_generations = 300\n",
    "\n",
    "fitnesses = []\n",
    "\n",
    "##### algorithm\n",
    "# step 1: create initial population\n",
    "population = [create_individual() for _ in range(m)]\n",
    "\n",
    "#==== loops\n",
    "elitism = 2\n",
    "for i in range(n_generations):\n",
    "    sorted_population = sorted(population, key=compute_fitness)\n",
    "        \n",
    "    # for debug\n",
    "    if i%10 == 0:\n",
    "        fitnesses.append(compute_fitness(sorted_population[-1]))\n",
    "        print(\"loss:\", compute_loss(sorted_population[-1]))\n",
    "    \n",
    "    # create new_population\n",
    "    new_population = sorted_population[-elitism:]   \n",
    "    \n",
    "    while len(new_population) < m:\n",
    "        # selection\n",
    "        individual_s1 = selection(sorted_population)\n",
    "        individual_s2 = selection(sorted_population) # duplication\n",
    "        \n",
    "        # crossover\n",
    "        individual_c1, individual_c2 = crossover(individual_s1, individual_s2)\n",
    "        \n",
    "        # mutation\n",
    "        individual_m1 = mutate(individual_c1)\n",
    "        individual_m2 = mutate(individual_c2)\n",
    "        \n",
    "        # copy \n",
    "        new_population.append(individual_m1)\n",
    "        new_population.append(individual_m2)\n",
    "\n",
    "    # update population\n",
    "    population = new_population"
   ]
  },
  {
   "cell_type": "code",
   "execution_count": 8,
   "metadata": {},
   "outputs": [
    {
     "data": {
      "image/png": "[encoded data removed]",
      "text/plain": [
       "<Figure size 640x480 with 1 Axes>"
      ]
     },
     "metadata": {},
     "output_type": "display_data"
    }
   ],
   "source": [
    "import matplotlib.pyplot as plt\n",
    "\n",
    "plt.plot(fitnesses)\n",
    "plt.show()"
   ]
  },
  {
   "cell_type": "code",
   "execution_count": 9,
   "metadata": {},
   "outputs": [
    {
     "name": "stdout",
     "output_type": "stream",
     "text": [
      "[0.012325454462582819, -0.003917880375077232, -0.02427882036536655, -0.015935936647695215, -0.013141488353070052, -0.06369055657836853]\n"
     ]
    }
   ],
   "source": [
    "sorted_population = sorted(population, key=compute_fitness)\n",
    "print(sorted_population[-1])"
   ]
  },
  {
   "cell_type": "code",
   "execution_count": 10,
   "metadata": {},
   "outputs": [
    {
     "name": "stdout",
     "output_type": "stream",
     "text": [
      "[16.354016466933817, -0.003917880375077232, -0.02427882036536655, -0.015935936647695215, -0.013141488353070052, -11.054436994049265]\n"
     ]
    }
   ],
   "source": [
    "print(sorted_population[0])"
   ]
  },
  {
   "cell_type": "code",
   "execution_count": null,
   "metadata": {},
   "outputs": [],
   "source": []
  }
 ],
 "metadata": {
  "kernelspec": {
   "display_name": "Python 3 (ipykernel)",
   "language": "python",
   "name": "python3"
  },
  "language_info": {
   "codemirror_mode": {
    "name": "ipython",
    "version": 3
   },
   "file_extension": ".py",
   "mimetype": "text/x-python",
   "name": "python",
   "nbconvert_exporter": "python",
   "pygments_lexer": "ipython3",
   "version": "3.8.2"
  }
 },
 "nbformat": 4,
 "nbformat_minor": 2
}
