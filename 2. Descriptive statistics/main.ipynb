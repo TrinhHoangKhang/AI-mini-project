{
 "cells": [
  {
   "cell_type": "code",
   "execution_count": 6,
   "metadata": {},
   "outputs": [],
   "source": [
    "import numpy as np"
   ]
  },
  {
   "cell_type": "markdown",
   "metadata": {},
   "source": [
    "#### Mean (Sample and population)"
   ]
  },
  {
   "cell_type": "code",
   "execution_count": 7,
   "metadata": {},
   "outputs": [],
   "source": [
    "def compute_mean(X):\n",
    "    sum_all = np.sum(X)\n",
    "    result = sum_all / len(X)\n",
    "    return result"
   ]
  },
  {
   "cell_type": "code",
   "execution_count": 8,
   "metadata": {},
   "outputs": [
    {
     "name": "stdout",
     "output_type": "stream",
     "text": [
      "1.8\n",
      "1.8\n"
     ]
    }
   ],
   "source": [
    "# Testing\n",
    "X = np.array([2 , 0 , 2 , 2 , 7, 4 , -2 , 5 , -1 , -1])\n",
    "print(compute_mean(X))\n",
    "print(np.mean(X))"
   ]
  },
  {
   "cell_type": "markdown",
   "metadata": {},
   "source": [
    "#### Median"
   ]
  },
  {
   "cell_type": "code",
   "execution_count": 9,
   "metadata": {},
   "outputs": [],
   "source": [
    "def compute_median(X):\n",
    "    X = sorted(X)\n",
    "    n = len(X)\n",
    "    if n % 2 == 1:\n",
    "        return X[n//2]\n",
    "    else:\n",
    "        a = X[int(n/2) - 1]\n",
    "        b = X[int(n/2)]\n",
    "        return (a + b) / 2"
   ]
  },
  {
   "cell_type": "code",
   "execution_count": 10,
   "metadata": {},
   "outputs": [
    {
     "name": "stdout",
     "output_type": "stream",
     "text": [
      "4.5\n",
      "4.5\n",
      "4\n",
      "4.0\n"
     ]
    }
   ],
   "source": [
    "# Testing\n",
    "X = [1 , 5 , 4 , 4 , 9, 13]\n",
    "print(compute_median(X))\n",
    "print(np.median(X))\n",
    "X = [1 , 5 , 4 , 4 , 9, 13, 0]\n",
    "print(compute_median(X))\n",
    "print(np.median(X))"
   ]
  },
  {
   "cell_type": "markdown",
   "metadata": {},
   "source": [
    "#### Variance"
   ]
  },
  {
   "cell_type": "code",
   "execution_count": 11,
   "metadata": {},
   "outputs": [],
   "source": [
    "def compute_variance(X):\n",
    "    n = len(X)\n",
    "    mean = compute_mean(X)\n",
    "    distances = (X - mean)**2\n",
    "    distance_sum = np.sum(distances)\n",
    "    result = distance_sum / n\n",
    "    return result"
   ]
  },
  {
   "cell_type": "code",
   "execution_count": 22,
   "metadata": {},
   "outputs": [
    {
     "name": "stdout",
     "output_type": "stream",
     "text": [
      "69.33333333333333\n",
      "69.33333333333333\n"
     ]
    }
   ],
   "source": [
    "# Testing\n",
    "X = [ 171 , 176 , 155 , 167 , 169 , 182]\n",
    "print(compute_variance(X))\n",
    "print(np.var(X))"
   ]
  },
  {
   "cell_type": "code",
   "execution_count": 13,
   "metadata": {},
   "outputs": [],
   "source": [
    "# Sample case\n",
    "def compute_variance_sample(X):\n",
    "    mean = compute_mean(X)\n",
    "    distance = (X - mean)**2\n",
    "    distance_sum = np.sum(distance)\n",
    "    result = distance_sum / (len(X) - 1)\n",
    "    return result"
   ]
  },
  {
   "cell_type": "code",
   "execution_count": 25,
   "metadata": {},
   "outputs": [
    {
     "name": "stdout",
     "output_type": "stream",
     "text": [
      "83.2\n",
      "83.2\n"
     ]
    }
   ],
   "source": [
    "# Testing\n",
    "# Testing\n",
    "X = [ 171 , 176 , 155 , 167 , 169 , 182]\n",
    "print(compute_variance_sample(X))\n",
    "print(np.var(X, ddof=1))"
   ]
  },
  {
   "cell_type": "markdown",
   "metadata": {},
   "source": [
    "#### Standard deviation"
   ]
  },
  {
   "cell_type": "code",
   "execution_count": 14,
   "metadata": {},
   "outputs": [],
   "source": [
    "def compute_std(X):\n",
    "    return np.sqrt(compute_variance(X))"
   ]
  },
  {
   "cell_type": "code",
   "execution_count": 15,
   "metadata": {},
   "outputs": [
    {
     "name": "stdout",
     "output_type": "stream",
     "text": [
      "8.32666399786453\n",
      "8.32666399786453\n"
     ]
    }
   ],
   "source": [
    "#### Testing\n",
    "X = [ 171 , 176 , 155 , 167 , 169 , 182]\n",
    "print(compute_std(X))\n",
    "print(np.std(X))"
   ]
  },
  {
   "cell_type": "code",
   "execution_count": 16,
   "metadata": {},
   "outputs": [],
   "source": [
    "# Sample case\n",
    "def compute_std_sample(X):\n",
    "    return np.sqrt(compute_variance_sample(X))"
   ]
  },
  {
   "cell_type": "code",
   "execution_count": 28,
   "metadata": {},
   "outputs": [
    {
     "name": "stdout",
     "output_type": "stream",
     "text": [
      "9.121403400793104\n",
      "9.121403400793104\n"
     ]
    }
   ],
   "source": [
    "# Testing \n",
    "#### Testing\n",
    "X = [ 171 , 176 , 155 , 167 , 169 , 182]\n",
    "print(compute_std_sample(X))\n",
    "print(np.std(X, ddof=1))"
   ]
  },
  {
   "cell_type": "markdown",
   "metadata": {},
   "source": [
    "#### Covariance\n",
    "For sample\n",
    "$$\n",
    "\\text{Cov}(X, Y) = \\frac{\\sum_{i=1}^{n} (X_i - \\bar{X})(Y_i - \\bar{Y})}{n-1}\n",
    "$$\n",
    "For population\n",
    "$$\n",
    "\\text{Cov}(X, Y) = \\frac{\\sum_{i=1}^{n} (X_i - \\bar{X})(Y_i - \\bar{Y})}{n}\n",
    "$$\n",
    "\n"
   ]
  },
  {
   "cell_type": "code",
   "execution_count": 35,
   "metadata": {},
   "outputs": [],
   "source": [
    "def compute_covariance_population(X, Y):\n",
    "    return np.sum((X - compute_mean(X))*(Y - compute_mean(Y))) / len(X)"
   ]
  },
  {
   "cell_type": "code",
   "execution_count": 36,
   "metadata": {},
   "outputs": [
    {
     "name": "stdout",
     "output_type": "stream",
     "text": [
      "251.26530612244906\n",
      "251.26530612244903\n"
     ]
    }
   ],
   "source": [
    "# Testing\n",
    "X = np.array([ -2 , -5 , -11 , 6 , 4 , 15 , 9])\n",
    "Y = np.array([4 , 25 , 121 , 36 , 16 , 225 , 81])\n",
    "print(compute_covariance_population(X, Y))\n",
    "print(np.cov(X, Y, ddof=0)[0, 1])"
   ]
  },
  {
   "cell_type": "code",
   "execution_count": 34,
   "metadata": {},
   "outputs": [],
   "source": [
    "def compute_covariance_sample(X, Y):\n",
    "    return np.sum((X - compute_mean(X))*(Y - compute_mean(Y))) / (len(X) - 1)"
   ]
  },
  {
   "cell_type": "code",
   "execution_count": 37,
   "metadata": {},
   "outputs": [
    {
     "name": "stdout",
     "output_type": "stream",
     "text": [
      "293.1428571428572\n",
      "293.1428571428572\n"
     ]
    }
   ],
   "source": [
    "# Testing\n",
    "X = np.array([ -2 , -5 , -11 , 6 , 4 , 15 , 9])\n",
    "Y = np.array([4 , 25 , 121 , 36 , 16 , 225 , 81])\n",
    "print(compute_covariance_sample(X, Y))\n",
    "print(np.cov(X, Y, ddof=1)[0, 1])"
   ]
  },
  {
   "cell_type": "markdown",
   "metadata": {},
   "source": [
    "#### Correlation coeffient"
   ]
  },
  {
   "cell_type": "code",
   "execution_count": 50,
   "metadata": {},
   "outputs": [],
   "source": [
    "def compute_correlation_coeffient(X, Y):\n",
    "    return compute_covariance_population(X, Y) / (compute_std(X) * compute_std(Y))\n",
    "# Sample or population does not matter"
   ]
  },
  {
   "cell_type": "code",
   "execution_count": 51,
   "metadata": {},
   "outputs": [
    {
     "name": "stdout",
     "output_type": "stream",
     "text": [
      "0.4202633309602727\n",
      "0.4202633309602728\n"
     ]
    }
   ],
   "source": [
    "# Testing\n",
    "X = np.array([ -2 , -5 , -11 , 6 , 4 , 15 , 9])\n",
    "Y = np.array([4 , 25 , 121 , 36 , 16 , 225 , 81])\n",
    "print(compute_correlation_coeffient(X, Y))\n",
    "print(np.corrcoef(X, Y)[0, 1])"
   ]
  }
 ],
 "metadata": {
  "kernelspec": {
   "display_name": "AIO310",
   "language": "python",
   "name": "python3"
  },
  "language_info": {
   "codemirror_mode": {
    "name": "ipython",
    "version": 3
   },
   "file_extension": ".py",
   "mimetype": "text/x-python",
   "name": "python",
   "nbconvert_exporter": "python",
   "pygments_lexer": "ipython3",
   "version": "3.10.14"
  }
 },
 "nbformat": 4,
 "nbformat_minor": 2
}
